{
 "cells": [
  {
   "cell_type": "code",
   "execution_count": 3,
   "metadata": {},
   "outputs": [
    {
     "name": "stdout",
     "output_type": "stream",
     "text": [
      "                            OLS Regression Results                            \n",
      "==============================================================================\n",
      "Dep. Variable:      compoundSentiment   R-squared:                       0.137\n",
      "Model:                            OLS   Adj. R-squared:                  0.137\n",
      "Method:                 Least Squares   F-statistic:                     330.0\n",
      "Date:                Wed, 16 Sep 2020   Prob (F-statistic):               0.00\n",
      "Time:                        15:09:08   Log-Likelihood:                -38194.\n",
      "No. Observations:               31990   AIC:                         7.643e+04\n",
      "Df Residuals:                   31967   BIC:                         7.663e+04\n",
      "Df Model:                          22                                         \n",
      "Covariance Type:                  HC1                                         \n",
      "======================================================================================================\n",
      "                                         coef    std err          z      P>|z|      [0.025      0.975]\n",
      "------------------------------------------------------------------------------------------------------\n",
      "Intercept                              0.2698      0.023     11.505      0.000       0.224       0.316\n",
      "C(Dominant_Topic)[T.1.0]              -0.3431      0.033    -10.400      0.000      -0.408      -0.278\n",
      "C(Dominant_Topic)[T.2.0]               0.0028      0.031      0.088      0.930      -0.059       0.065\n",
      "C(Dominant_Topic)[T.3.0]              -0.2412      0.034     -7.113      0.000      -0.308      -0.175\n",
      "C(Dominant_Topic)[T.4.0]               0.1514      0.033      4.581      0.000       0.087       0.216\n",
      "C(Dominant_Topic)[T.5.0]              -0.9453      0.035    -26.877      0.000      -1.014      -0.876\n",
      "C(Dominant_Topic)[T.6.0]               0.2358      0.023     10.147      0.000       0.190       0.281\n",
      "C(Dominant_Topic)[T.7.0]               0.0440      0.062      0.708      0.479      -0.078       0.166\n",
      "C(Dominant_Topic)[T.8.0]              -0.6063      0.037    -16.370      0.000      -0.679      -0.534\n",
      "C(Dominant_Topic)[T.9.0]               0.1409      0.036      3.873      0.000       0.070       0.212\n",
      "C(Dominant_Topic)[T.10.0]             -0.2101      0.024     -8.803      0.000      -0.257      -0.163\n",
      "C(Dominant_Topic)[T.11.0]             -0.1229      0.037     -3.281      0.001      -0.196      -0.049\n",
      "C(Dominant_Topic)[T.12.0]             -0.0739      0.036     -2.063      0.039      -0.144      -0.004\n",
      "C(Dominant_Topic)[T.13.0]             -0.0830      0.026     -3.211      0.001      -0.134      -0.032\n",
      "C(Dominant_Topic)[T.14.0]             -0.1731      0.028     -6.251      0.000      -0.227      -0.119\n",
      "C(Dominant_Topic)[T.15.0]             -0.1629      0.027     -6.033      0.000      -0.216      -0.110\n",
      "C(Dominant_Topic)[T.16.0]             -0.5307      0.030    -17.897      0.000      -0.589      -0.473\n",
      "C(Dominant_Topic)[T.17.0]             -0.1653      0.028     -5.891      0.000      -0.220      -0.110\n",
      "C(Dominant_Topic)[T.18.0]             -0.9211      0.024    -38.009      0.000      -0.969      -0.874\n",
      "C(Dominant_Topic)[T.19.0]             -0.2007      0.032     -6.232      0.000      -0.264      -0.138\n",
      "C(NewsProvider)[T.Breitbart]          -0.0177      0.014     -1.289      0.198      -0.045       0.009\n",
      "C(NewsProvider)[T.FiveThirtyEight]     0.2609      0.033      7.834      0.000       0.196       0.326\n",
      "C(NewsProvider)[T.Politico]            0.1107      0.015      7.169      0.000       0.080       0.141\n",
      "==============================================================================\n",
      "Omnibus:                   564548.455   Durbin-Watson:                   1.986\n",
      "Prob(Omnibus):                  0.000   Jarque-Bera (JB):             2747.850\n",
      "Skew:                          -0.240   Prob(JB):                         0.00\n",
      "Kurtosis:                       1.647   Cond. No.                         25.8\n",
      "==============================================================================\n",
      "\n",
      "Warnings:\n",
      "[1] Standard Errors are heteroscedasticity robust (HC1)\n"
     ]
    }
   ],
   "source": [
    "# Load data\n",
    "import pandas as pd\n",
    "usnews = pd.read_pickle(\"usnews.pkl\")\n",
    "\n",
    "# Regression\n",
    "from statsmodels.formula.api import ols\n",
    "model = ols('compoundSentiment ~ C(Dominant_Topic) + C(NewsProvider)', data = usnews)\n",
    "results = model.fit(cov_type=\"HC1\")\n",
    "print(results.summary())"
   ]
  }
 ],
 "metadata": {
  "kernelspec": {
   "display_name": "Python 3",
   "language": "python",
   "name": "python3"
  },
  "language_info": {
   "codemirror_mode": {
    "name": "ipython",
    "version": 3
   },
   "file_extension": ".py",
   "mimetype": "text/x-python",
   "name": "python",
   "nbconvert_exporter": "python",
   "pygments_lexer": "ipython3",
   "version": "3.7.7"
  }
 },
 "nbformat": 4,
 "nbformat_minor": 4
}
